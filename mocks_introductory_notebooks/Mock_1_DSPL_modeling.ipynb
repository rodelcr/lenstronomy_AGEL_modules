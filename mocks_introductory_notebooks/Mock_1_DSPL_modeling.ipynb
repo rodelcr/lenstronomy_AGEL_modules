{
 "cells": [
  {
   "cell_type": "code",
   "execution_count": null,
   "id": "98e0e3cf",
   "metadata": {},
   "outputs": [],
   "source": [
    "from Initial_module_load import *\n",
    "model_update('model_parameters_base_DSPL')# YOU CAN MAKE ADDITIONAL VERSIONS OF THE PARAMETER MODULE AND SWITCH BETWEEN THEM HERE\n",
    "# e.g. model_update('model_parameters_base_DSPL_mock2')"
   ]
  },
  {
   "cell_type": "code",
   "execution_count": null,
   "id": "a02063f2",
   "metadata": {},
   "outputs": [],
   "source": [
    "# We import the data and PSF for the mock image\n",
    "kwargs_data_F200LP, kwargs_psf_F200LP = import_data_mock('../tutorials_DB_2025_09/mocks/images/mock_1_image.fits',\n",
    "                                                    '../tutorials_DB_2025_09/mocks/PSF/mock_psf.fits')"
   ]
  },
  {
   "cell_type": "code",
   "execution_count": null,
   "id": "690e3416",
   "metadata": {},
   "outputs": [],
   "source": [
    "mock_observable_params_plot(kwargs_data_F200LP, kwargs_psf_F200LP)"
   ]
  },
  {
   "cell_type": "code",
   "execution_count": null,
   "id": "3a480a5e",
   "metadata": {},
   "outputs": [],
   "source": [
    "position_modeling_plot(kwargs_data_F200LP, kwargs_psf_F200LP,\n",
    "                       source2 = True,\n",
    "                       x = 55, y = 53,\n",
    "                       s1_x_F200LP = np.array([10,20,30,40]),\n",
    "                       s1_y_F200LP = np.array([10,20,30,40]),\n",
    "                       s2_x_F200LP = np.array([50,60]),\n",
    "                       s2_y_F200LP = np.array([50,60]),\n",
    "                       positions_found = True)\n",
    "\n",
    "                    #    s1_x_F200LP = np.array([35,55,62,60]),\n",
    "                    #    s1_y_F200LP = np.array([60,73,72,37]),\n",
    "                    #    s2_x_F200LP = np.array([92,40]),\n",
    "                    #    s2_y_F200LP = np.array([75,30]),"
   ]
  },
  {
   "cell_type": "code",
   "execution_count": null,
   "id": "15215d88",
   "metadata": {},
   "outputs": [],
   "source": [
    "key_initial_guesses = position_modeling_calculation(plot_model_prediction = False, plot_convergence = True)\n",
    "\n",
    "# You will use these initial guesses in the next, more in-depth modeling steps.\n",
    "# Using the key_initial_guesses dictionary, you can set up the priors/initial parameters\n",
    "# for the lens and source model parameters.\n",
    "#\n",
    "# Best to update the initial guesses directly in the model_parameters_base*.py file that is being used. \n"
   ]
  },
  {
   "cell_type": "code",
   "execution_count": null,
   "id": "e4cc39e5",
   "metadata": {},
   "outputs": [],
   "source": [
    "key_initial_guesses"
   ]
  },
  {
   "cell_type": "code",
   "execution_count": null,
   "id": "ddba21c0",
   "metadata": {},
   "outputs": [],
   "source": [
    "# Now, let's create a supersampling mask to speed up the modeling,\n",
    "# by avoiding supersampling in regions of low flux.\n",
    "# You can adjust the threshold parameter to change the mask.\n",
    "# A threshold of 3.8 means that pixels with flux > max_flux/10^(3.8/2.5) will not be supersampled.\n",
    "\n",
    "supersampling_masking(kwargs_data_F200LP, threshold=3.8, plot_mask = True)"
   ]
  },
  {
   "cell_type": "code",
   "execution_count": null,
   "id": "7906fffe",
   "metadata": {},
   "outputs": [],
   "source": [
    "# Cosmology calculations check\n",
    "\n",
    "print('Angular diameter distance between s1 and s2: {} Mpc'.format(D_s1s2))\n",
    "print('Deflection angle rescale factor: {:.6f}'.format(deflection_scaling))\n",
    "print('Beta:{:.6f}'.format(beta))"
   ]
  },
  {
   "cell_type": "code",
   "execution_count": null,
   "id": "56e34fdc",
   "metadata": {},
   "outputs": [],
   "source": [
    "# Here we will start setting up the analysis run with PSO \n",
    "\n",
    "job_name = 'PSO_double_source_test'\n",
    "\n",
    "cluster_comp = False\n",
    "\n",
    "sampling_inputs = setup_prior_to_sampling(kwargs_data_F200LP, kwargs_psf_F200LP)\n",
    "\n",
    "\n",
    "fitting_kwargs_list = [#['update_settings', {'kwargs_likelihood': {'bands_compute': [True, True]}}],\n",
    "                       #['PSO', {'sigma_scale': 10, 'n_particles': 220, 'n_iterations': 3000}],\n",
    "                       ['PSO', {'sigma_scale': 5, 'n_particles': 100, 'n_iterations': 300}],\n",
    "                       #['PSO', {'sigma_scale': 0.5, 'n_particles': 220, 'n_iterations': 2000}],\n",
    "                       #['PSO', {'sigma_scale': 0.1, 'n_particles': 220, 'n_iterations': 2000}],\n",
    "                       #['MCMC', {'n_burn': 100, 'n_run': 3000, 'walkerRatio': 6, 'sigma_scale': 0.5}]\n",
    "                       ]\n",
    "\n",
    "configure_model_and_run(job_name, sampling_inputs, cluster_compute=cluster_comp, \n",
    "                fitting_kwargs_list=fitting_kwargs_list, kwargs_params=kwargs_params)"
   ]
  },
  {
   "cell_type": "code",
   "execution_count": null,
   "id": "8d580d5d",
   "metadata": {},
   "outputs": [],
   "source": [
    "# Here we read out the results from the prior fitting run\n",
    "\n",
    "job_name_out = job_name+'_out.txt'  # 'DCLS0353_double_source_F200LP_V18_run_07_out.txt'\n",
    "\n",
    "output_temp = os.path.join(base_path, 'local_temp', job_name_out)\n",
    "\n",
    "path2dump = os.path.join(base_path, 'midway_temp', job_name_out)\n",
    "\n",
    "if cluster_comp:\n",
    "\n",
    "    if not os.path.exists(path2dump):  # If file does not exist, copy from cluster\n",
    "        dir_path_cluster = '/pool/public/sao/dbowden/Compound/DCLS0353'\n",
    "        path2dump_cluster = os.path.join(dir_path_cluster, 'local_temp', job_name_out)\n",
    "\n",
    "        # copying results _out.txt from remote cluster\n",
    "        ssh_client = paramiko.SSHClient()\n",
    "        ssh_client.set_missing_host_key_policy(paramiko.AutoAddPolicy())\n",
    "        ssh_client.connect(hostname=None, username=None, password=None) \n",
    "        ftp_client = ssh_client.open_sftp()\n",
    "        ftp_client.get(path2dump_cluster, path2dump)\n",
    "        ftp_client.close()\n",
    "        ssh_client.close()\n",
    "\n",
    "    f = open(path2dump, 'rb')\n",
    "    [input_, output_] = joblib.load(f)\n",
    "    f.close()\n",
    "    \n",
    "else:    \n",
    "    f = open(output_temp, 'rb')\n",
    "    [input_, output_] = joblib.load(f)\n",
    "    f.close()\n",
    "\n",
    "fitting_kwargs_list, multi_band_list, kwargs_model, kwargs_constraints, kwargs_likelihood, kwargs_params, init_samples = input_\n",
    "\n",
    "kwargs_result, multi_band_list_out, fit_output, _ = output_"
   ]
  },
  {
   "cell_type": "code",
   "execution_count": null,
   "id": "9e76eaf2",
   "metadata": {},
   "outputs": [],
   "source": [
    "output_plot_model_fit(kwargs_data_F200LP, multi_band_list_out, kwargs_model, kwargs_result)"
   ]
  },
  {
   "cell_type": "code",
   "execution_count": null,
   "id": "5f157f67",
   "metadata": {},
   "outputs": [],
   "source": []
  },
  {
   "cell_type": "code",
   "execution_count": null,
   "id": "8cb1863d",
   "metadata": {},
   "outputs": [],
   "source": []
  },
  {
   "cell_type": "code",
   "execution_count": null,
   "id": "16ac419e",
   "metadata": {},
   "outputs": [],
   "source": []
  }
 ],
 "metadata": {
  "kernelspec": {
   "display_name": "lens_tutorials",
   "language": "python",
   "name": "python3"
  },
  "language_info": {
   "codemirror_mode": {
    "name": "ipython",
    "version": 3
   },
   "file_extension": ".py",
   "mimetype": "text/x-python",
   "name": "python",
   "nbconvert_exporter": "python",
   "pygments_lexer": "ipython3",
   "version": "3.13.7"
  }
 },
 "nbformat": 4,
 "nbformat_minor": 5
}
